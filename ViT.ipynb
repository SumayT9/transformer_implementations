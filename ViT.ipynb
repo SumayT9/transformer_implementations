{
  "nbformat": 4,
  "nbformat_minor": 0,
  "metadata": {
    "colab": {
      "provenance": [],
      "machine_shape": "hm",
      "gpuType": "T4",
      "authorship_tag": "ABX9TyNqc5iBErNWXyo0gZvzjJ77",
      "include_colab_link": true
    },
    "kernelspec": {
      "name": "python3",
      "display_name": "Python 3"
    },
    "language_info": {
      "name": "python"
    },
    "accelerator": "GPU"
  },
  "cells": [
    {
      "cell_type": "markdown",
      "metadata": {
        "id": "view-in-github",
        "colab_type": "text"
      },
      "source": [
        "<a href=\"https://colab.research.google.com/github/SumayT9/transformer_implementations/blob/main/ViT.ipynb\" target=\"_parent\"><img src=\"https://colab.research.google.com/assets/colab-badge.svg\" alt=\"Open In Colab\"/></a>"
      ]
    },
    {
      "cell_type": "code",
      "source": [
        "from google.colab import drive\n",
        "drive.mount('/content/drive')"
      ],
      "metadata": {
        "colab": {
          "base_uri": "https://localhost:8080/"
        },
        "id": "G9eKb7cUiukz",
        "outputId": "ea5b535b-09a7-43f0-f0d5-61109e12286a"
      },
      "execution_count": null,
      "outputs": [
        {
          "output_type": "stream",
          "name": "stdout",
          "text": [
            "Mounted at /content/drive\n"
          ]
        }
      ]
    },
    {
      "cell_type": "code",
      "source": [
        "import os\n",
        "os.chdir(\"drive/MyDrive/projects\")"
      ],
      "metadata": {
        "id": "5MMevwvnivgn"
      },
      "execution_count": null,
      "outputs": []
    },
    {
      "cell_type": "markdown",
      "source": [
        "# Vision Transformer on MNIST"
      ],
      "metadata": {
        "id": "VVoDEMwJ3jZo"
      }
    },
    {
      "cell_type": "code",
      "execution_count": null,
      "metadata": {
        "id": "ZBZaoYzd3ea4"
      },
      "outputs": [],
      "source": [
        "import numpy as np\n",
        "\n",
        "from tqdm import tqdm, trange\n",
        "\n",
        "import torch\n",
        "import torch.nn as nn\n",
        "from torch.optim import Adam\n",
        "from torch.nn import CrossEntropyLoss\n",
        "from torch.utils.data import DataLoader\n",
        "\n",
        "from torchvision.transforms import ToTensor\n",
        "from torchvision.datasets.mnist import MNIST"
      ]
    },
    {
      "cell_type": "code",
      "source": [],
      "metadata": {
        "id": "_36de-Dquqxv"
      },
      "execution_count": null,
      "outputs": []
    },
    {
      "cell_type": "code",
      "source": [
        "mnist_trainset = MNIST(root='./data', train=True, download=True, transform=ToTensor())\n",
        "mnist_testset = MNIST(root='./data', train=False, download=True, transform=ToTensor())"
      ],
      "metadata": {
        "id": "BETqqt9FikES"
      },
      "execution_count": null,
      "outputs": []
    },
    {
      "cell_type": "code",
      "source": [
        "img, label = mnist_trainset[0]\n",
        "img.shape"
      ],
      "metadata": {
        "colab": {
          "base_uri": "https://localhost:8080/"
        },
        "id": "m78xtK0TjYUo",
        "outputId": "89d94331-dcbe-4e2b-b2ad-e402c6cb584f"
      },
      "execution_count": null,
      "outputs": [
        {
          "output_type": "execute_result",
          "data": {
            "text/plain": [
              "torch.Size([1, 28, 28])"
            ]
          },
          "metadata": {},
          "execution_count": 5
        }
      ]
    },
    {
      "cell_type": "code",
      "source": [
        "device = torch.device(\"cuda\" if torch.cuda.is_available() else \"cpu\")\n",
        "\n",
        "\n",
        "class MultiHeadAttention(nn.Module):\n",
        "    def __init__(self, embed_dim, n_heads):\n",
        "        # Dims\n",
        "        super().__init__()\n",
        "        assert embed_dim % n_heads == 0\n",
        "        self.embed_dim = embed_dim\n",
        "        self.n_heads = n_heads\n",
        "        self.head_dim = embed_dim // n_heads\n",
        "        # Nets\n",
        "        self.w_q = nn.Linear(self.embed_dim, self.embed_dim)\n",
        "        self.w_k = nn.Linear(self.embed_dim, self.embed_dim)\n",
        "        self.w_v = nn.Linear(self.embed_dim, self.embed_dim)\n",
        "\n",
        "\n",
        "    def expand_mask(self, mask):\n",
        "        assert mask.ndim >= 2, \"Mask must be at least 2-dimensional with seq_length x seq_length\"\n",
        "        if mask.ndim == 3:\n",
        "            mask = mask.unsqueeze(1)\n",
        "        while mask.ndim < 4:\n",
        "            mask = mask.unsqueeze(0)\n",
        "        return mask\n",
        "\n",
        "    def split(self, vec):\n",
        "        # vec shape: b x seq_len x embed_dim\n",
        "        b, seq_len, embed_dim = vec.shape\n",
        "        vec = vec.reshape(b, seq_len, self.n_heads, self.head_dim)\n",
        "        vec = vec.permute(0, 2, 1, 3) # b, n_heads, seq_len, head_dim\n",
        "        return vec\n",
        "\n",
        "    def forward(self, q=None, k=None, v=None, mask=None):\n",
        "        # qkv shape: b x seq_len x embed_dim\n",
        "        q, k, v = self.w_q(q), self.w_k(k), self.w_v(v)\n",
        "        q, k, v = self.split(q), self.split(k), self.split(v)\n",
        "        b, n_heads, seq_len, head_dim = q.shape\n",
        "        logits = q @ k.transpose(-2, -1)\n",
        "        scaled = logits / np.sqrt(head_dim)\n",
        "        if mask is not None:\n",
        "            mask = self.expand_mask(mask)\n",
        "            scaled = scaled.masked_fill(mask==0, -1e9)\n",
        "        attn = torch.softmax(scaled, dim=-1)\n",
        "        attn = attn @ v\n",
        "        attn = attn.permute(0, 2, 1, 3) # b x seq_len x num_heads x head_dim\n",
        "        attn = attn.reshape(b, seq_len, self.embed_dim)\n",
        "        return attn\n",
        "\n",
        "\n",
        "class EncoderBlock(nn.Module):\n",
        "    def __init__(self, embed_dim, num_heads):\n",
        "        super().__init__()\n",
        "        self.embed_dim = embed_dim\n",
        "        self.num_heads = num_heads\n",
        "        self.self_attn = MultiHeadAttention(embed_dim=embed_dim, n_heads=num_heads)\n",
        "        self.ff = nn.Sequential(\n",
        "            torch.nn.Linear(embed_dim, 4*embed_dim),\n",
        "            torch.nn.ReLU(),\n",
        "            torch.nn.Linear(4*embed_dim, embed_dim)\n",
        "        )\n",
        "        self.ln1 = nn.LayerNorm(embed_dim)\n",
        "        self.ln2 = nn.LayerNorm(embed_dim)\n",
        "        self.d1 = nn.Dropout(p=0.1)\n",
        "        self.d2 = nn.Dropout(p=0.1)\n",
        "\n",
        "    def forward(self, x, mask=None):\n",
        "        x = x + self.ln1(self.d1(self.self_attn(q=x, k=x, v=x, mask=mask)))\n",
        "        x = x + self.ln2(self.d2(self.ff(x)))\n",
        "        return x\n",
        "\n",
        "\n",
        "class Encoder(nn.Module):\n",
        "    def __init__(self, embed_dim, num_heads, num_layers):\n",
        "        super().__init__()\n",
        "        self.embed_dim = embed_dim\n",
        "        self.num_heads = num_heads\n",
        "        self.num_layers = num_layers\n",
        "        self.layers = nn.ModuleList([EncoderBlock(embed_dim, num_heads) for _ in range(num_layers)])\n",
        "\n",
        "    def forward(self, x, mask=None):\n",
        "        for layer in self.layers:\n",
        "            x = layer(x, mask=mask)\n",
        "        return x\n",
        "\n",
        "class VisionTransformer(nn.Module):\n",
        "    def __init__(self, embed_dim, num_heads, num_layers, chunk_size):\n",
        "        super().__init__()\n",
        "        self.encoder = Encoder(embed_dim, num_heads, num_layers)\n",
        "        self.conv_proj = nn.Conv2d(in_channels=1, out_channels=embed_dim, kernel_size=chunk_size, stride=chunk_size)\n",
        "        self.pos_enc = nn.Parameter(torch.randn((17, embed_dim)))\n",
        "        self.embed_dim = embed_dim\n",
        "        self.chunk_size = chunk_size\n",
        "        self.cls_token = nn.Parameter(torch.randn((1, 1, embed_dim)))\n",
        "        self.mlp = nn.Sequential(\n",
        "            torch.nn.Linear(embed_dim, 2*embed_dim),\n",
        "            torch.nn.ReLU(),\n",
        "            torch.nn.Linear(2*embed_dim, 10)\n",
        "        )\n",
        "\n",
        "    def forward(self, x):\n",
        "        n, c, h, w = x.shape\n",
        "        x = self.conv_proj(x)\n",
        "        x = x.reshape(n, self.embed_dim, h//self.chunk_size * w//self.chunk_size)\n",
        "        x = x.permute(0, 2, 1)\n",
        "        batch_cls_token = self.cls_token.expand(n, -1, -1)\n",
        "        x = torch.cat([batch_cls_token, x], dim=1)\n",
        "        x += self.pos_enc\n",
        "        x = self.encoder(x)\n",
        "        x = self.mlp(x[:, 0])\n",
        "        return x"
      ],
      "metadata": {
        "id": "8Fg6pv3w3mEZ"
      },
      "execution_count": null,
      "outputs": []
    },
    {
      "cell_type": "code",
      "source": [
        "class CustomScheduler():\n",
        "    def __init__(self, optimizer, d_model, n_warmup_steps):\n",
        "        self.optimizer = optimizer\n",
        "        self.d_model = d_model\n",
        "        self.n_warmup_steps = n_warmup_steps\n",
        "        self.n_steps = 0\n",
        "\n",
        "    def get_lr(self):\n",
        "        d_model = self.d_model\n",
        "        n_warmup_steps = self.n_warmup_steps\n",
        "        n_steps = self.n_steps\n",
        "        return (d_model ** -0.5) * min(n_steps ** -0.5, n_steps * n_warmup_steps ** -1.5)\n",
        "\n",
        "    def zero_grad(self):\n",
        "        self.optimizer.zero_grad()\n",
        "\n",
        "    def step(self):\n",
        "        self.n_steps += 1\n",
        "        lr = self.get_lr()\n",
        "        for param_group in self.optimizer.param_groups:\n",
        "            param_group['lr'] = lr\n",
        "\n",
        "        self.optimizer.step()"
      ],
      "metadata": {
        "id": "M3lCTBMt0We6"
      },
      "execution_count": null,
      "outputs": []
    },
    {
      "cell_type": "code",
      "source": [
        "train_dataloader = DataLoader(mnist_trainset, batch_size=128, shuffle=True)\n",
        "test_dataloader = DataLoader(mnist_testset, batch_size=128, shuffle=False)\n",
        "\n",
        "model = VisionTransformer(embed_dim=128, num_heads=8, num_layers=4, chunk_size=7)\n",
        "model.to(device)\n",
        "\n",
        "device = torch.device(\"cuda\" if torch.cuda.is_available() else \"cpu\")\n",
        "optimizer = Adam(model.parameters(), lr=0.001, betas=(0.9, 0.98), eps=1e-9)\n",
        "scheduler = CustomScheduler(optimizer, 128, 4000)\n",
        "\n",
        "criterion = nn.CrossEntropyLoss()\n",
        "\n",
        "num_epochs = 20\n",
        "for epoch in range(num_epochs):\n",
        "    model.train()\n",
        "    train_loss = 0.0\n",
        "    val_loss = 0.0\n",
        "    for batch_idx, (x, y) in enumerate(tqdm(train_dataloader)):\n",
        "        x, y = x.to(device), y.to(device)\n",
        "        scheduler.zero_grad()\n",
        "        logits = model(x)\n",
        "        loss = criterion(logits, y)\n",
        "        train_loss += loss.item()\n",
        "        loss.backward()\n",
        "        scheduler.step()\n",
        "    if (epoch+1) % 5 == 0:\n",
        "      with torch.no_grad():\n",
        "          model.eval()\n",
        "          for batch_idx, (x, y) in enumerate(tqdm(test_dataloader)):\n",
        "              x, y = x.to(device), y.to(device)\n",
        "              logits = model(x)\n",
        "              loss = criterion(logits, y)\n",
        "              val_loss = loss.item()\n",
        "          print(f\"Epoch {epoch+1}, Train Loss: {train_loss}, Val Loss: {val_loss}\")"
      ],
      "metadata": {
        "colab": {
          "base_uri": "https://localhost:8080/"
        },
        "id": "alaewSN6uan7",
        "outputId": "b5611811-0a1f-41a4-b47b-611cd118ad12"
      },
      "execution_count": null,
      "outputs": [
        {
          "output_type": "stream",
          "name": "stderr",
          "text": [
            "100%|██████████| 469/469 [00:12<00:00, 38.99it/s]\n",
            "100%|██████████| 79/79 [00:01<00:00, 61.05it/s]\n"
          ]
        },
        {
          "output_type": "stream",
          "name": "stdout",
          "text": [
            "Epoch 1, Train Loss: 568.2353913635015, Val Loss: 0.16777215898036957\n"
          ]
        },
        {
          "output_type": "stream",
          "name": "stderr",
          "text": [
            "100%|██████████| 469/469 [00:10<00:00, 44.73it/s]\n",
            "100%|██████████| 469/469 [00:10<00:00, 44.62it/s]\n",
            "100%|██████████| 469/469 [00:10<00:00, 44.70it/s]\n",
            "100%|██████████| 469/469 [00:10<00:00, 45.01it/s]\n",
            "100%|██████████| 469/469 [00:10<00:00, 44.51it/s]\n",
            "100%|██████████| 79/79 [00:01<00:00, 65.04it/s]\n"
          ]
        },
        {
          "output_type": "stream",
          "name": "stdout",
          "text": [
            "Epoch 6, Train Loss: 57.41693733818829, Val Loss: 0.0038599923718720675\n"
          ]
        },
        {
          "output_type": "stream",
          "name": "stderr",
          "text": [
            "100%|██████████| 469/469 [00:10<00:00, 44.46it/s]\n",
            "100%|██████████| 469/469 [00:10<00:00, 44.57it/s]\n",
            "100%|██████████| 469/469 [00:10<00:00, 44.24it/s]\n",
            "100%|██████████| 469/469 [00:10<00:00, 44.57it/s]\n",
            "100%|██████████| 469/469 [00:10<00:00, 44.83it/s]\n",
            "100%|██████████| 79/79 [00:01<00:00, 64.22it/s]\n"
          ]
        },
        {
          "output_type": "stream",
          "name": "stdout",
          "text": [
            "Epoch 11, Train Loss: 39.60297906771302, Val Loss: 0.0003705897834151983\n"
          ]
        },
        {
          "output_type": "stream",
          "name": "stderr",
          "text": [
            "100%|██████████| 469/469 [00:10<00:00, 44.32it/s]\n",
            "100%|██████████| 469/469 [00:10<00:00, 44.61it/s]\n",
            "100%|██████████| 469/469 [00:10<00:00, 44.68it/s]\n",
            "100%|██████████| 469/469 [00:10<00:00, 44.62it/s]\n",
            "100%|██████████| 469/469 [00:10<00:00, 44.65it/s]\n",
            "100%|██████████| 79/79 [00:01<00:00, 64.07it/s]\n"
          ]
        },
        {
          "output_type": "stream",
          "name": "stdout",
          "text": [
            "Epoch 16, Train Loss: 25.35137113649398, Val Loss: 0.00011502775305416435\n"
          ]
        },
        {
          "output_type": "stream",
          "name": "stderr",
          "text": [
            "100%|██████████| 469/469 [00:10<00:00, 44.63it/s]\n",
            "100%|██████████| 469/469 [00:10<00:00, 44.41it/s]\n",
            "100%|██████████| 469/469 [00:10<00:00, 44.26it/s]\n",
            "100%|██████████| 469/469 [00:10<00:00, 44.85it/s]\n"
          ]
        }
      ]
    },
    {
      "cell_type": "code",
      "source": [
        "with torch.no_grad():\n",
        "    correct, total = 0, 0\n",
        "    test_loss = 0.0\n",
        "    for batch in tqdm(test_dataloader, desc=\"Testing\"):\n",
        "        x, y = batch\n",
        "        x, y = x.to(device), y.to(device)\n",
        "        y_hat = model(x)\n",
        "        loss = criterion(y_hat, y)\n",
        "        test_loss += loss.detach().cpu().item() / len(test_dataloader)\n",
        "\n",
        "        correct += torch.sum(torch.argmax(y_hat, dim=1) == y).detach().cpu().item()\n",
        "        total += len(x)\n",
        "    print(f\"Test loss: {test_loss:.2f}\")\n",
        "    print(f\"Test accuracy: {correct / total * 100:.2f}%\")"
      ],
      "metadata": {
        "colab": {
          "base_uri": "https://localhost:8080/"
        },
        "id": "9VXJVdWXuhr6",
        "outputId": "78f89422-e0e0-4809-fcab-ac264d1243b9"
      },
      "execution_count": null,
      "outputs": [
        {
          "output_type": "stream",
          "name": "stderr",
          "text": [
            "Testing: 100%|██████████| 79/79 [00:01<00:00, 55.40it/s]"
          ]
        },
        {
          "output_type": "stream",
          "name": "stdout",
          "text": [
            "Test loss: 0.08\n",
            "Test accuracy: 97.93%\n"
          ]
        },
        {
          "output_type": "stream",
          "name": "stderr",
          "text": [
            "\n"
          ]
        }
      ]
    },
    {
      "cell_type": "code",
      "source": [],
      "metadata": {
        "id": "pouc5VF65I_1"
      },
      "execution_count": null,
      "outputs": []
    }
  ]
}